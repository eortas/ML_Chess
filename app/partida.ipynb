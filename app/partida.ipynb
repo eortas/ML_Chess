{
 "cells": [
  {
   "cell_type": "code",
   "execution_count": 2,
   "id": "ac8e22e7",
   "metadata": {},
   "outputs": [],
   "source": [
    "import pandas as pd"
   ]
  },
  {
   "cell_type": "code",
   "execution_count": 8,
   "id": "afee6e22",
   "metadata": {},
   "outputs": [],
   "source": [
    "df = pd.read_csv('evaluaciones_partida.csv')"
   ]
  },
  {
   "cell_type": "code",
   "execution_count": 9,
   "id": "06f6d6b4",
   "metadata": {},
   "outputs": [
    {
     "data": {
      "text/html": [
       "<div>\n",
       "<style scoped>\n",
       "    .dataframe tbody tr th:only-of-type {\n",
       "        vertical-align: middle;\n",
       "    }\n",
       "\n",
       "    .dataframe tbody tr th {\n",
       "        vertical-align: top;\n",
       "    }\n",
       "\n",
       "    .dataframe thead th {\n",
       "        text-align: right;\n",
       "    }\n",
       "</style>\n",
       "<table border=\"1\" class=\"dataframe\">\n",
       "  <thead>\n",
       "    <tr style=\"text-align: right;\">\n",
       "      <th></th>\n",
       "      <th>White</th>\n",
       "      <th>Black</th>\n",
       "      <th>Result</th>\n",
       "      <th>WhiteElo</th>\n",
       "      <th>BlackElo</th>\n",
       "      <th>ECO</th>\n",
       "      <th>TimeControl</th>\n",
       "      <th>Termination</th>\n",
       "      <th>AN</th>\n",
       "      <th>ECO_Family</th>\n",
       "      <th>evals</th>\n",
       "    </tr>\n",
       "  </thead>\n",
       "  <tbody>\n",
       "    <tr>\n",
       "      <th>0</th>\n",
       "      <td>eortass</td>\n",
       "      <td>lichess AI level 4</td>\n",
       "      <td>{'string': 'NNUE evaluation using nn-37f18f62d...</td>\n",
       "      <td>1500</td>\n",
       "      <td>?</td>\n",
       "      <td>C48</td>\n",
       "      <td>3600+0</td>\n",
       "      <td>Normal</td>\n",
       "      <td>1. e4 e5 2. Nf3 Nc6 3. Nc3 Nf6 4. Bb5 Bc5 5. O...</td>\n",
       "      <td>C</td>\n",
       "      <td>[-0.35, 0.4, -0.37, 0.29, -0.12, 0.13, -0.05, ...</td>\n",
       "    </tr>\n",
       "  </tbody>\n",
       "</table>\n",
       "</div>"
      ],
      "text/plain": [
       "     White               Black  \\\n",
       "0  eortass  lichess AI level 4   \n",
       "\n",
       "                                              Result  WhiteElo BlackElo  ECO  \\\n",
       "0  {'string': 'NNUE evaluation using nn-37f18f62d...      1500        ?  C48   \n",
       "\n",
       "  TimeControl Termination                                                 AN  \\\n",
       "0      3600+0      Normal  1. e4 e5 2. Nf3 Nc6 3. Nc3 Nf6 4. Bb5 Bc5 5. O...   \n",
       "\n",
       "  ECO_Family                                              evals  \n",
       "0          C  [-0.35, 0.4, -0.37, 0.29, -0.12, 0.13, -0.05, ...  "
      ]
     },
     "execution_count": 9,
     "metadata": {},
     "output_type": "execute_result"
    }
   ],
   "source": [
    "df.head()"
   ]
  },
  {
   "cell_type": "code",
   "execution_count": 10,
   "id": "d4dd3d0e",
   "metadata": {},
   "outputs": [
    {
     "data": {
      "text/plain": [
       "'[-0.35, 0.4, -0.37, 0.29, -0.12, 0.13, -0.05, 0.36, -0.37, 0.29, 0.11, 0.24, 0.18, 0.37, -0.4, 0.44, -0.53, 0.56, -0.37, 0.49, 1.51, -1.66, 1.75, -1.75, 1.7, 0.0, 0.62, 1.67, 0.48, -0.71]'"
      ]
     },
     "execution_count": 10,
     "metadata": {},
     "output_type": "execute_result"
    }
   ],
   "source": [
    "df['evals'][0]"
   ]
  },
  {
   "cell_type": "code",
   "execution_count": 2,
   "id": "042d3162",
   "metadata": {},
   "outputs": [
    {
     "data": {
      "text/html": [
       "<div>\n",
       "<style scoped>\n",
       "    .dataframe tbody tr th:only-of-type {\n",
       "        vertical-align: middle;\n",
       "    }\n",
       "\n",
       "    .dataframe tbody tr th {\n",
       "        vertical-align: top;\n",
       "    }\n",
       "\n",
       "    .dataframe thead th {\n",
       "        text-align: right;\n",
       "    }\n",
       "</style>\n",
       "<table border=\"1\" class=\"dataframe\">\n",
       "  <thead>\n",
       "    <tr style=\"text-align: right;\">\n",
       "      <th></th>\n",
       "      <th>eval</th>\n",
       "    </tr>\n",
       "  </thead>\n",
       "  <tbody>\n",
       "    <tr>\n",
       "      <th>0</th>\n",
       "      <td>0.06</td>\n",
       "    </tr>\n",
       "    <tr>\n",
       "      <th>1</th>\n",
       "      <td>-0.04</td>\n",
       "    </tr>\n",
       "    <tr>\n",
       "      <th>2</th>\n",
       "      <td>0.12</td>\n",
       "    </tr>\n",
       "    <tr>\n",
       "      <th>3</th>\n",
       "      <td>-0.12</td>\n",
       "    </tr>\n",
       "    <tr>\n",
       "      <th>4</th>\n",
       "      <td>0.12</td>\n",
       "    </tr>\n",
       "  </tbody>\n",
       "</table>\n",
       "</div>"
      ],
      "text/plain": [
       "   eval\n",
       "0  0.06\n",
       "1 -0.04\n",
       "2  0.12\n",
       "3 -0.12\n",
       "4  0.12"
      ]
     },
     "execution_count": 2,
     "metadata": {},
     "output_type": "execute_result"
    }
   ],
   "source": [
    "import re\n",
    "import pandas as pd\n",
    "\n",
    "log_file_path = '../Analisis2.log'\n",
    "with open(log_file_path, 'r') as file:\n",
    "    log_content = file.read()\n",
    "\n",
    "eval_values = re.findall(r'[\\+\\-]?\\d+[,\\.]\\d{2}', log_content)\n",
    "\n",
    "eval_values = [float(value.replace(',', '.')) for value in eval_values]\n",
    "\n",
    "df = pd.DataFrame(eval_values, columns=['eval'])\n",
    "\n",
    "# Mostrar el DataFrame\n",
    "df.head()\n"
   ]
  },
  {
   "cell_type": "code",
   "execution_count": null,
   "id": "70747859",
   "metadata": {},
   "outputs": [],
   "source": []
  }
 ],
 "metadata": {
  "kernelspec": {
   "display_name": "Python 3",
   "language": "python",
   "name": "python3"
  },
  "language_info": {
   "codemirror_mode": {
    "name": "ipython",
    "version": 3
   },
   "file_extension": ".py",
   "mimetype": "text/x-python",
   "name": "python",
   "nbconvert_exporter": "python",
   "pygments_lexer": "ipython3",
   "version": "3.11.9"
  }
 },
 "nbformat": 4,
 "nbformat_minor": 5
}
