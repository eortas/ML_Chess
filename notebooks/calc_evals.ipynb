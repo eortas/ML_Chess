{
 "cells": [
  {
   "cell_type": "code",
   "execution_count": 35,
   "id": "1835902d",
   "metadata": {},
   "outputs": [
    {
     "name": "stdout",
     "output_type": "stream",
     "text": [
      "[0.06, -0.04, 0.12, -0.12, 0.12, -0.02, 0.69, -0.6, 4.55, -4.56, 5.15, 0.02, 4.3, -2.88]\n"
     ]
    }
   ],
   "source": [
    "import re\n",
    "\n",
    "log_file_path = '../Analisis2.log'\n",
    "with open(log_file_path, 'r') as file:\n",
    "    log_content = file.read()\n",
    "\n",
    "eval_values = re.findall(r'[\\+\\-]?\\d+[,\\.]\\d{2}', log_content)\n",
    "\n",
    "eval_values = [float(value.replace(',', '.')) for value in eval_values]\n",
    "\n",
    "print(eval_values)\n"
   ]
  },
  {
   "cell_type": "code",
   "execution_count": 38,
   "id": "bdcde01e",
   "metadata": {},
   "outputs": [
    {
     "data": {
      "text/html": [
       "<div>\n",
       "<style scoped>\n",
       "    .dataframe tbody tr th:only-of-type {\n",
       "        vertical-align: middle;\n",
       "    }\n",
       "\n",
       "    .dataframe tbody tr th {\n",
       "        vertical-align: top;\n",
       "    }\n",
       "\n",
       "    .dataframe thead th {\n",
       "        text-align: right;\n",
       "    }\n",
       "</style>\n",
       "<table border=\"1\" class=\"dataframe\">\n",
       "  <thead>\n",
       "    <tr style=\"text-align: right;\">\n",
       "      <th></th>\n",
       "      <th>eval</th>\n",
       "    </tr>\n",
       "  </thead>\n",
       "  <tbody>\n",
       "    <tr>\n",
       "      <th>0</th>\n",
       "      <td>[0.06, -0.04, 0.12, -0.12, 0.12, -0.02, 0.69, ...</td>\n",
       "    </tr>\n",
       "  </tbody>\n",
       "</table>\n",
       "</div>"
      ],
      "text/plain": [
       "                                                eval\n",
       "0  [0.06, -0.04, 0.12, -0.12, 0.12, -0.02, 0.69, ..."
      ]
     },
     "execution_count": 38,
     "metadata": {},
     "output_type": "execute_result"
    }
   ],
   "source": [
    "import pandas as pd\n",
    "\n",
    "df = pd.DataFrame({'eval': [eval_values]})\n",
    "\n",
    "# Mostrar el DataFrame\n",
    "df.head()\n"
   ]
  },
  {
   "cell_type": "code",
   "execution_count": null,
   "id": "192340be",
   "metadata": {},
   "outputs": [],
   "source": []
  }
 ],
 "metadata": {
  "kernelspec": {
   "display_name": "Python 3",
   "language": "python",
   "name": "python3"
  },
  "language_info": {
   "codemirror_mode": {
    "name": "ipython",
    "version": 3
   },
   "file_extension": ".py",
   "mimetype": "text/x-python",
   "name": "python",
   "nbconvert_exporter": "python",
   "pygments_lexer": "ipython3",
   "version": "3.11.9"
  }
 },
 "nbformat": 4,
 "nbformat_minor": 5
}
