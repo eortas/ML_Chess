{
 "cells": [
  {
   "cell_type": "code",
   "execution_count": 1,
   "id": "22663c10",
   "metadata": {},
   "outputs": [
    {
     "data": {
      "text/html": [
       "<div>\n",
       "<style scoped>\n",
       "    .dataframe tbody tr th:only-of-type {\n",
       "        vertical-align: middle;\n",
       "    }\n",
       "\n",
       "    .dataframe tbody tr th {\n",
       "        vertical-align: top;\n",
       "    }\n",
       "\n",
       "    .dataframe thead th {\n",
       "        text-align: right;\n",
       "    }\n",
       "</style>\n",
       "<table border=\"1\" class=\"dataframe\">\n",
       "  <thead>\n",
       "    <tr style=\"text-align: right;\">\n",
       "      <th></th>\n",
       "      <th>Event</th>\n",
       "      <th>White</th>\n",
       "      <th>Black</th>\n",
       "      <th>Result</th>\n",
       "      <th>UTCDate</th>\n",
       "      <th>UTCTime</th>\n",
       "      <th>WhiteElo</th>\n",
       "      <th>BlackElo</th>\n",
       "      <th>WhiteRatingDiff</th>\n",
       "      <th>BlackRatingDiff</th>\n",
       "      <th>ECO</th>\n",
       "      <th>Opening</th>\n",
       "      <th>TimeControl</th>\n",
       "      <th>Termination</th>\n",
       "    </tr>\n",
       "  </thead>\n",
       "  <tbody>\n",
       "    <tr>\n",
       "      <th>0</th>\n",
       "      <td>PGN Import</td>\n",
       "      <td>Eduardo</td>\n",
       "      <td>Clase</td>\n",
       "      <td>1-0</td>\n",
       "      <td>?</td>\n",
       "      <td>?</td>\n",
       "      <td>200</td>\n",
       "      <td>1200</td>\n",
       "      <td>?</td>\n",
       "      <td>?</td>\n",
       "      <td>?</td>\n",
       "      <td>?</td>\n",
       "      <td>40/9000:40/9000:40/9000</td>\n",
       "      <td>normal</td>\n",
       "    </tr>\n",
       "  </tbody>\n",
       "</table>\n",
       "</div>"
      ],
      "text/plain": [
       "        Event    White  Black Result UTCDate UTCTime WhiteElo BlackElo  \\\n",
       "0  PGN Import  Eduardo  Clase    1-0       ?       ?      200     1200   \n",
       "\n",
       "  WhiteRatingDiff BlackRatingDiff ECO Opening              TimeControl  \\\n",
       "0               ?               ?   ?       ?  40/9000:40/9000:40/9000   \n",
       "\n",
       "  Termination  \n",
       "0      normal  "
      ]
     },
     "execution_count": 1,
     "metadata": {},
     "output_type": "execute_result"
    }
   ],
   "source": [
    "import chess.pgn\n",
    "import pandas as pd\n",
    "\n",
    "# Función para leer el PGN y crear el DataFrame\n",
    "def process_pgn(pgn_file):\n",
    "    pgn = open(pgn_file)\n",
    "    \n",
    "    # Lista para almacenar los resultados de las partidas\n",
    "    data = []\n",
    "\n",
    "    # Leer todas las partidas del archivo PGN\n",
    "    while True:\n",
    "        try:\n",
    "            game = chess.pgn.read_game(pgn)\n",
    "            if game is None:\n",
    "                break\n",
    "\n",
    "            \n",
    "            event = game.headers.get(\"Event\", \"?\")\n",
    "            white_player = game.headers.get(\"White\", \"?\")\n",
    "            black_player = game.headers.get(\"Black\", \"?\")\n",
    "            result = game.headers.get(\"Result\", \"?\")\n",
    "            utc_date = game.headers.get(\"UTCDate\", \"?\")\n",
    "            utc_time = game.headers.get(\"UTCTime\", \"?\")\n",
    "            white_elo = game.headers.get(\"WhiteElo\", \"?\")\n",
    "            black_elo = game.headers.get(\"BlackElo\", \"?\")\n",
    "            white_rating_diff = game.headers.get(\"WhiteRatingDiff\", \"?\")\n",
    "            black_rating_diff = game.headers.get(\"BlackRatingDiff\", \"?\")\n",
    "            eco = game.headers.get(\"ECO\", \"?\")\n",
    "            opening = game.headers.get(\"Opening\", \"?\")\n",
    "            time_control = game.headers.get(\"TimeControl\", \"?\")\n",
    "            termination = game.headers.get(\"Termination\", \"?\")\n",
    "\n",
    "            data.append([event, white_player, black_player, result, utc_date, utc_time,\n",
    "                         white_elo, black_elo, white_rating_diff, black_rating_diff, eco, \n",
    "                         opening, time_control, termination])\n",
    "\n",
    "        except Exception as e:\n",
    "            print(f\"Error al leer una partida: {e}\")\n",
    "            break\n",
    "    \n",
    "    # Dataframe con los datos creados\n",
    "    df = pd.DataFrame(data, columns=[\n",
    "        \"Event\", \"White\", \"Black\", \"Result\", \"UTCDate\", \"UTCTime\", \"WhiteElo\", \"BlackElo\",\n",
    "        \"WhiteRatingDiff\", \"BlackRatingDiff\", \"ECO\", \"Opening\", \"TimeControl\", \"Termination\"\n",
    "    ])\n",
    "    \n",
    "    return df\n",
    "\n",
    "df_result = process_pgn(\"predict2.pgn\")\n",
    "\n",
    "df_result.to_csv(\"evaluaciones_partida_input.csv\", index=False)\n",
    "\n",
    "df_result\n"
   ]
  },
  {
   "cell_type": "code",
   "execution_count": 2,
   "id": "e7625044",
   "metadata": {},
   "outputs": [
    {
     "data": {
      "text/html": [
       "<div>\n",
       "<style scoped>\n",
       "    .dataframe tbody tr th:only-of-type {\n",
       "        vertical-align: middle;\n",
       "    }\n",
       "\n",
       "    .dataframe tbody tr th {\n",
       "        vertical-align: top;\n",
       "    }\n",
       "\n",
       "    .dataframe thead th {\n",
       "        text-align: right;\n",
       "    }\n",
       "</style>\n",
       "<table border=\"1\" class=\"dataframe\">\n",
       "  <thead>\n",
       "    <tr style=\"text-align: right;\">\n",
       "      <th></th>\n",
       "      <th>Event</th>\n",
       "      <th>White</th>\n",
       "      <th>Black</th>\n",
       "      <th>Result</th>\n",
       "      <th>UTCDate</th>\n",
       "      <th>UTCTime</th>\n",
       "      <th>WhiteElo</th>\n",
       "      <th>BlackElo</th>\n",
       "      <th>WhiteRatingDiff</th>\n",
       "      <th>BlackRatingDiff</th>\n",
       "      <th>ECO</th>\n",
       "      <th>Opening</th>\n",
       "      <th>TimeControl</th>\n",
       "      <th>Termination</th>\n",
       "      <th>AN</th>\n",
       "    </tr>\n",
       "  </thead>\n",
       "  <tbody>\n",
       "    <tr>\n",
       "      <th>0</th>\n",
       "      <td>PGN Import</td>\n",
       "      <td>Eduardo</td>\n",
       "      <td>Clase</td>\n",
       "      <td>1-0</td>\n",
       "      <td>?</td>\n",
       "      <td>?</td>\n",
       "      <td>200</td>\n",
       "      <td>1200</td>\n",
       "      <td>?</td>\n",
       "      <td>?</td>\n",
       "      <td>?</td>\n",
       "      <td>?</td>\n",
       "      <td>40/9000:40/9000:40/9000</td>\n",
       "      <td>normal</td>\n",
       "      <td>1. e4 {0.00/1 1} b5 {(Bf1xb5 Bc8-b7) -1.79/1 1...</td>\n",
       "    </tr>\n",
       "  </tbody>\n",
       "</table>\n",
       "</div>"
      ],
      "text/plain": [
       "        Event    White  Black Result UTCDate UTCTime WhiteElo BlackElo  \\\n",
       "0  PGN Import  Eduardo  Clase    1-0       ?       ?      200     1200   \n",
       "\n",
       "  WhiteRatingDiff BlackRatingDiff ECO Opening              TimeControl  \\\n",
       "0               ?               ?   ?       ?  40/9000:40/9000:40/9000   \n",
       "\n",
       "  Termination                                                 AN  \n",
       "0      normal  1. e4 {0.00/1 1} b5 {(Bf1xb5 Bc8-b7) -1.79/1 1...  "
      ]
     },
     "execution_count": 2,
     "metadata": {},
     "output_type": "execute_result"
    }
   ],
   "source": [
    "# Archivo PGN desde la línea 18 hasta el final\n",
    "def extraer_movimientos_desde_pgn(pgn_path):\n",
    "    with open(pgn_path, 'r') as file:\n",
    "        lines = file.readlines()\n",
    "        # El texto desde la línea 18\n",
    "        movimientos = \"\".join(lines[16:]).strip()\n",
    "    return movimientos\n",
    "\n",
    "pgn_file_path = 'predict2.pgn'\n",
    "\n",
    "movimientos_extraidos = extraer_movimientos_desde_pgn(pgn_file_path)\n",
    "\n",
    "df_result['AN'] = [movimientos_extraidos for _ in range(len(df_result))]\n",
    "\n",
    "df_result\n"
   ]
  },
  {
   "cell_type": "code",
   "execution_count": 3,
   "id": "8d702171",
   "metadata": {},
   "outputs": [
    {
     "data": {
      "text/html": [
       "<div>\n",
       "<style scoped>\n",
       "    .dataframe tbody tr th:only-of-type {\n",
       "        vertical-align: middle;\n",
       "    }\n",
       "\n",
       "    .dataframe tbody tr th {\n",
       "        vertical-align: top;\n",
       "    }\n",
       "\n",
       "    .dataframe thead th {\n",
       "        text-align: right;\n",
       "    }\n",
       "</style>\n",
       "<table border=\"1\" class=\"dataframe\">\n",
       "  <thead>\n",
       "    <tr style=\"text-align: right;\">\n",
       "      <th></th>\n",
       "      <th>Event</th>\n",
       "      <th>White</th>\n",
       "      <th>Black</th>\n",
       "      <th>Result</th>\n",
       "      <th>UTCDate</th>\n",
       "      <th>UTCTime</th>\n",
       "      <th>WhiteElo</th>\n",
       "      <th>BlackElo</th>\n",
       "      <th>WhiteRatingDiff</th>\n",
       "      <th>BlackRatingDiff</th>\n",
       "      <th>ECO</th>\n",
       "      <th>Opening</th>\n",
       "      <th>TimeControl</th>\n",
       "      <th>Termination</th>\n",
       "      <th>AN</th>\n",
       "    </tr>\n",
       "  </thead>\n",
       "  <tbody>\n",
       "    <tr>\n",
       "      <th>0</th>\n",
       "      <td>PGN Import</td>\n",
       "      <td>Eduardo</td>\n",
       "      <td>Clase</td>\n",
       "      <td>1-0</td>\n",
       "      <td>?</td>\n",
       "      <td>?</td>\n",
       "      <td>200</td>\n",
       "      <td>1200</td>\n",
       "      <td>?</td>\n",
       "      <td>?</td>\n",
       "      <td>?</td>\n",
       "      <td>?</td>\n",
       "      <td>40/9000:40/9000:40/9000</td>\n",
       "      <td>normal</td>\n",
       "      <td>1. e4 {0.00/1 1} b5 {(Bf1xb5 Bc8-b7) -1.79/1 1...</td>\n",
       "    </tr>\n",
       "  </tbody>\n",
       "</table>\n",
       "</div>"
      ],
      "text/plain": [
       "        Event    White  Black Result UTCDate UTCTime WhiteElo BlackElo  \\\n",
       "0  PGN Import  Eduardo  Clase    1-0       ?       ?      200     1200   \n",
       "\n",
       "  WhiteRatingDiff BlackRatingDiff ECO Opening              TimeControl  \\\n",
       "0               ?               ?   ?       ?  40/9000:40/9000:40/9000   \n",
       "\n",
       "  Termination                                                 AN  \n",
       "0      normal  1. e4 {0.00/1 1} b5 {(Bf1xb5 Bc8-b7) -1.79/1 1...  "
      ]
     },
     "execution_count": 3,
     "metadata": {},
     "output_type": "execute_result"
    }
   ],
   "source": [
    "df_result"
   ]
  },
  {
   "cell_type": "code",
   "execution_count": 4,
   "id": "8f46e46d",
   "metadata": {},
   "outputs": [
    {
     "name": "stdout",
     "output_type": "stream",
     "text": [
      "[0.34, -0.24, 1.92, -1.73, 1.83, -1.52, 2.37, -1.9, 2.23, -2.69, 3.82, -3.18, 4.19, -4.57, 4.91, -3.98, 5.68, -3.36, 5.36, -5.75, 6.8, -6.7, 6.9, -6.9, 7.29, -7.08]\n"
     ]
    }
   ],
   "source": [
    "import re\n",
    "\n",
    "log_file_path = '../Analisis3.log'\n",
    "with open(log_file_path, 'r') as file:\n",
    "    log_content = file.read()\n",
    "\n",
    "eval_values = re.findall(r'[\\+\\-]?\\d+[,\\.]\\d{2}', log_content)\n",
    "\n",
    "eval_values = [float(value.replace(',', '.')) for value in eval_values]\n",
    "\n",
    "print(eval_values)\n"
   ]
  },
  {
   "cell_type": "code",
   "execution_count": 5,
   "id": "e874ecf1",
   "metadata": {},
   "outputs": [
    {
     "data": {
      "text/html": [
       "<div>\n",
       "<style scoped>\n",
       "    .dataframe tbody tr th:only-of-type {\n",
       "        vertical-align: middle;\n",
       "    }\n",
       "\n",
       "    .dataframe tbody tr th {\n",
       "        vertical-align: top;\n",
       "    }\n",
       "\n",
       "    .dataframe thead th {\n",
       "        text-align: right;\n",
       "    }\n",
       "</style>\n",
       "<table border=\"1\" class=\"dataframe\">\n",
       "  <thead>\n",
       "    <tr style=\"text-align: right;\">\n",
       "      <th></th>\n",
       "      <th>eval</th>\n",
       "    </tr>\n",
       "  </thead>\n",
       "  <tbody>\n",
       "    <tr>\n",
       "      <th>0</th>\n",
       "      <td>[0.34, -0.24, 1.92, -1.73, 1.83, -1.52, 2.37, ...</td>\n",
       "    </tr>\n",
       "  </tbody>\n",
       "</table>\n",
       "</div>"
      ],
      "text/plain": [
       "                                                eval\n",
       "0  [0.34, -0.24, 1.92, -1.73, 1.83, -1.52, 2.37, ..."
      ]
     },
     "execution_count": 5,
     "metadata": {},
     "output_type": "execute_result"
    }
   ],
   "source": [
    "df_evals = pd.DataFrame({'eval': [eval_values]})\n",
    "\n",
    "df_evals.head()\n"
   ]
  },
  {
   "cell_type": "code",
   "execution_count": 6,
   "id": "8af2d25e",
   "metadata": {},
   "outputs": [
    {
     "data": {
      "text/html": [
       "<div>\n",
       "<style scoped>\n",
       "    .dataframe tbody tr th:only-of-type {\n",
       "        vertical-align: middle;\n",
       "    }\n",
       "\n",
       "    .dataframe tbody tr th {\n",
       "        vertical-align: top;\n",
       "    }\n",
       "\n",
       "    .dataframe thead th {\n",
       "        text-align: right;\n",
       "    }\n",
       "</style>\n",
       "<table border=\"1\" class=\"dataframe\">\n",
       "  <thead>\n",
       "    <tr style=\"text-align: right;\">\n",
       "      <th></th>\n",
       "      <th>Event</th>\n",
       "      <th>White</th>\n",
       "      <th>Black</th>\n",
       "      <th>Result</th>\n",
       "      <th>UTCDate</th>\n",
       "      <th>UTCTime</th>\n",
       "      <th>WhiteElo</th>\n",
       "      <th>BlackElo</th>\n",
       "      <th>WhiteRatingDiff</th>\n",
       "      <th>BlackRatingDiff</th>\n",
       "      <th>ECO</th>\n",
       "      <th>Opening</th>\n",
       "      <th>TimeControl</th>\n",
       "      <th>Termination</th>\n",
       "      <th>AN</th>\n",
       "      <th>evals</th>\n",
       "    </tr>\n",
       "  </thead>\n",
       "  <tbody>\n",
       "    <tr>\n",
       "      <th>0</th>\n",
       "      <td>PGN Import</td>\n",
       "      <td>Eduardo</td>\n",
       "      <td>Clase</td>\n",
       "      <td>1-0</td>\n",
       "      <td>?</td>\n",
       "      <td>?</td>\n",
       "      <td>200</td>\n",
       "      <td>1200</td>\n",
       "      <td>?</td>\n",
       "      <td>?</td>\n",
       "      <td>?</td>\n",
       "      <td>?</td>\n",
       "      <td>40/9000:40/9000:40/9000</td>\n",
       "      <td>normal</td>\n",
       "      <td>1. e4 {0.00/1 1} b5 {(Bf1xb5 Bc8-b7) -1.79/1 1...</td>\n",
       "      <td>[0.34, -0.24, 1.92, -1.73, 1.83, -1.52, 2.37, ...</td>\n",
       "    </tr>\n",
       "  </tbody>\n",
       "</table>\n",
       "</div>"
      ],
      "text/plain": [
       "        Event    White  Black Result UTCDate UTCTime WhiteElo BlackElo  \\\n",
       "0  PGN Import  Eduardo  Clase    1-0       ?       ?      200     1200   \n",
       "\n",
       "  WhiteRatingDiff BlackRatingDiff ECO Opening              TimeControl  \\\n",
       "0               ?               ?   ?       ?  40/9000:40/9000:40/9000   \n",
       "\n",
       "  Termination                                                 AN  \\\n",
       "0      normal  1. e4 {0.00/1 1} b5 {(Bf1xb5 Bc8-b7) -1.79/1 1...   \n",
       "\n",
       "                                               evals  \n",
       "0  [0.34, -0.24, 1.92, -1.73, 1.83, -1.52, 2.37, ...  "
      ]
     },
     "execution_count": 6,
     "metadata": {},
     "output_type": "execute_result"
    }
   ],
   "source": [
    "df_result['evals'] = df_evals['eval'].values\n",
    "\n",
    "df_result\n"
   ]
  },
  {
   "cell_type": "code",
   "execution_count": 7,
   "id": "dc004760",
   "metadata": {},
   "outputs": [],
   "source": [
    "df_result = df_result.drop(['Event','UTCDate', 'WhiteRatingDiff', 'UTCTime','BlackRatingDiff','Opening'], axis=1)"
   ]
  },
  {
   "cell_type": "code",
   "execution_count": 8,
   "id": "ae289a09",
   "metadata": {},
   "outputs": [
    {
     "name": "stdout",
     "output_type": "stream",
     "text": [
      "<class 'pandas.core.frame.DataFrame'>\n",
      "RangeIndex: 1 entries, 0 to 0\n",
      "Data columns (total 10 columns):\n",
      " #   Column       Non-Null Count  Dtype \n",
      "---  ------       --------------  ----- \n",
      " 0   White        1 non-null      object\n",
      " 1   Black        1 non-null      object\n",
      " 2   Result       1 non-null      object\n",
      " 3   WhiteElo     1 non-null      object\n",
      " 4   BlackElo     1 non-null      object\n",
      " 5   ECO          1 non-null      object\n",
      " 6   TimeControl  1 non-null      object\n",
      " 7   Termination  1 non-null      object\n",
      " 8   AN           1 non-null      object\n",
      " 9   evals        1 non-null      object\n",
      "dtypes: object(10)\n",
      "memory usage: 212.0+ bytes\n"
     ]
    }
   ],
   "source": [
    "df_result.info()"
   ]
  },
  {
   "cell_type": "code",
   "execution_count": 9,
   "id": "099d6ed5",
   "metadata": {},
   "outputs": [
    {
     "name": "stdout",
     "output_type": "stream",
     "text": [
      "ECO_Family\n",
      "?    1\n",
      "Name: count, dtype: int64\n"
     ]
    },
    {
     "data": {
      "text/html": [
       "<div>\n",
       "<style scoped>\n",
       "    .dataframe tbody tr th:only-of-type {\n",
       "        vertical-align: middle;\n",
       "    }\n",
       "\n",
       "    .dataframe tbody tr th {\n",
       "        vertical-align: top;\n",
       "    }\n",
       "\n",
       "    .dataframe thead th {\n",
       "        text-align: right;\n",
       "    }\n",
       "</style>\n",
       "<table border=\"1\" class=\"dataframe\">\n",
       "  <thead>\n",
       "    <tr style=\"text-align: right;\">\n",
       "      <th></th>\n",
       "      <th>White</th>\n",
       "      <th>Black</th>\n",
       "      <th>Result</th>\n",
       "      <th>WhiteElo</th>\n",
       "      <th>BlackElo</th>\n",
       "      <th>TimeControl</th>\n",
       "      <th>Termination</th>\n",
       "      <th>AN</th>\n",
       "      <th>evals</th>\n",
       "      <th>ECO_Family</th>\n",
       "    </tr>\n",
       "  </thead>\n",
       "  <tbody>\n",
       "    <tr>\n",
       "      <th>0</th>\n",
       "      <td>Eduardo</td>\n",
       "      <td>Clase</td>\n",
       "      <td>1-0</td>\n",
       "      <td>200</td>\n",
       "      <td>1200</td>\n",
       "      <td>40/9000:40/9000:40/9000</td>\n",
       "      <td>normal</td>\n",
       "      <td>1. e4 {0.00/1 1} b5 {(Bf1xb5 Bc8-b7) -1.79/1 1...</td>\n",
       "      <td>[0.34, -0.24, 1.92, -1.73, 1.83, -1.52, 2.37, ...</td>\n",
       "      <td>?</td>\n",
       "    </tr>\n",
       "  </tbody>\n",
       "</table>\n",
       "</div>"
      ],
      "text/plain": [
       "     White  Black Result WhiteElo BlackElo              TimeControl  \\\n",
       "0  Eduardo  Clase    1-0      200     1200  40/9000:40/9000:40/9000   \n",
       "\n",
       "  Termination                                                 AN  \\\n",
       "0      normal  1. e4 {0.00/1 1} b5 {(Bf1xb5 Bc8-b7) -1.79/1 1...   \n",
       "\n",
       "                                               evals ECO_Family  \n",
       "0  [0.34, -0.24, 1.92, -1.73, 1.83, -1.52, 2.37, ...          ?  "
      ]
     },
     "execution_count": 9,
     "metadata": {},
     "output_type": "execute_result"
    }
   ],
   "source": [
    "# Como hay mucha fragmentación, y como sé que la letra (A, B, C, D...) representa a un tipo concreto\n",
    "# de apertura creo una columna nueva solo con el valor del tipo\n",
    "\n",
    "df_result['ECO_Family'] = df_result['ECO'].str[0]\n",
    "print(df_result['ECO_Family'].value_counts())\n",
    "df_result.drop(['ECO'],axis=1)"
   ]
  },
  {
   "cell_type": "code",
   "execution_count": 10,
   "id": "df09752a",
   "metadata": {},
   "outputs": [],
   "source": [
    "df_result['Result'] = df_result['Result'].map({\n",
    "    '1-0': 1,\n",
    "    '1/2-1/2': 0,\n",
    "    '0-1': -1})\n"
   ]
  },
  {
   "cell_type": "code",
   "execution_count": 11,
   "id": "f9dae105",
   "metadata": {},
   "outputs": [
    {
     "name": "stdout",
     "output_type": "stream",
     "text": [
      "<class 'pandas.core.frame.DataFrame'>\n",
      "RangeIndex: 1 entries, 0 to 0\n",
      "Data columns (total 11 columns):\n",
      " #   Column       Non-Null Count  Dtype \n",
      "---  ------       --------------  ----- \n",
      " 0   White        1 non-null      object\n",
      " 1   Black        1 non-null      object\n",
      " 2   Result       1 non-null      int64 \n",
      " 3   WhiteElo     1 non-null      object\n",
      " 4   BlackElo     1 non-null      object\n",
      " 5   ECO          1 non-null      object\n",
      " 6   TimeControl  1 non-null      object\n",
      " 7   Termination  1 non-null      object\n",
      " 8   AN           1 non-null      object\n",
      " 9   evals        1 non-null      object\n",
      " 10  ECO_Family   1 non-null      object\n",
      "dtypes: int64(1), object(10)\n",
      "memory usage: 220.0+ bytes\n"
     ]
    }
   ],
   "source": [
    "df_result.info()"
   ]
  },
  {
   "cell_type": "code",
   "execution_count": 12,
   "id": "06731ec6",
   "metadata": {},
   "outputs": [],
   "source": [
    "df_result.to_csv(\"../data/raw/df_chess_inputs.csv\", index=False)"
   ]
  },
  {
   "cell_type": "code",
   "execution_count": null,
   "id": "3a03d5fa",
   "metadata": {},
   "outputs": [],
   "source": []
  }
 ],
 "metadata": {
  "kernelspec": {
   "display_name": "Python 3",
   "language": "python",
   "name": "python3"
  },
  "language_info": {
   "codemirror_mode": {
    "name": "ipython",
    "version": 3
   },
   "file_extension": ".py",
   "mimetype": "text/x-python",
   "name": "python",
   "nbconvert_exporter": "python",
   "pygments_lexer": "ipython3",
   "version": "3.11.9"
  }
 },
 "nbformat": 4,
 "nbformat_minor": 5
}
