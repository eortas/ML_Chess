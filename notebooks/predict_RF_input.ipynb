{
 "cells": [
  {
   "cell_type": "code",
   "execution_count": 1,
   "id": "511736c9",
   "metadata": {},
   "outputs": [],
   "source": [
    "import pandas as pd\n",
    "import joblib\n"
   ]
  },
  {
   "cell_type": "code",
   "execution_count": 2,
   "id": "2fbd342b",
   "metadata": {},
   "outputs": [],
   "source": [
    "# Cargar los datos de entrada\n",
    "df_ml = pd.read_csv('../data/raw/df_ml_input.csv')"
   ]
  },
  {
   "cell_type": "code",
   "execution_count": null,
   "id": "19a64b8c",
   "metadata": {},
   "outputs": [],
   "source": []
  },
  {
   "cell_type": "code",
   "execution_count": 3,
   "id": "e2b8a9d9",
   "metadata": {},
   "outputs": [
    {
     "data": {
      "text/plain": [
       "\"\\n# Había nulos, en eval_anterior era nulo porque corresponden a la primera jugada y entonces no había jugada anterior\\n# En eval lo rellenamos con 0 que es neutro\\ndf_ml['eval_anterior'] = df_ml['eval_anterior'].fillna(0)\\ndf_ml['eval'] = df_ml['eval'].fillna(0)\\n\\nexclude_cols = [col for col in df_ml.columns if col.startswith('FEN_')]\\nexclude_cols += ['ID_partida', 'jugada_num', 'SAN', 'turno', 'White', 'Black', 'ECO', 'TimeControl','Termination',\\n                 'material_blancas', 'material_negras', 'turno.1', 'enroque_blancas', 'enroque_negras','jaque', 'mate', 'desconocida']\\n\\ndf_ml = df_ml.drop(exclude_cols, axis=1)\\n\\n# Variables categóricas a convertir en dummies\\ncategorical_cols = ['ECO_Family', 'calidad_jugada']\\n\\n# Metodo para variables categóricas\\ndf_ml = pd.get_dummies(df_ml, columns=categorical_cols, drop_first=True)\\n\""
      ]
     },
     "execution_count": 3,
     "metadata": {},
     "output_type": "execute_result"
    }
   ],
   "source": [
    "'''\n",
    "# Había nulos, en eval_anterior era nulo porque corresponden a la primera jugada y entonces no había jugada anterior\n",
    "# En eval lo rellenamos con 0 que es neutro\n",
    "df_ml['eval_anterior'] = df_ml['eval_anterior'].fillna(0)\n",
    "df_ml['eval'] = df_ml['eval'].fillna(0)\n",
    "\n",
    "exclude_cols = [col for col in df_ml.columns if col.startswith('FEN_')]\n",
    "exclude_cols += ['ID_partida', 'jugada_num', 'SAN', 'turno', 'White', 'Black', 'ECO', 'TimeControl','Termination',\n",
    "                 'material_blancas', 'material_negras', 'turno.1', 'enroque_blancas', 'enroque_negras','jaque', 'mate', 'desconocida']\n",
    "\n",
    "df_ml = df_ml.drop(exclude_cols, axis=1)\n",
    "\n",
    "# Variables categóricas a convertir en dummies\n",
    "categorical_cols = ['ECO_Family', 'calidad_jugada']\n",
    "\n",
    "# Metodo para variables categóricas\n",
    "df_ml = pd.get_dummies(df_ml, columns=categorical_cols, drop_first=True)\n",
    "'''"
   ]
  },
  {
   "cell_type": "code",
   "execution_count": 4,
   "id": "ad2623e6",
   "metadata": {},
   "outputs": [
    {
     "name": "stdout",
     "output_type": "stream",
     "text": [
      "<class 'pandas.core.frame.DataFrame'>\n",
      "RangeIndex: 27 entries, 0 to 26\n",
      "Data columns (total 93 columns):\n",
      " #   Column               Non-Null Count  Dtype  \n",
      "---  ------               --------------  -----  \n",
      " 0   ID_partida           27 non-null     int64  \n",
      " 1   jugada_num           27 non-null     int64  \n",
      " 2   SAN                  27 non-null     object \n",
      " 3   eval                 26 non-null     float64\n",
      " 4   turno                27 non-null     object \n",
      " 5   Resultado            27 non-null     int64  \n",
      " 6   White                27 non-null     object \n",
      " 7   Black                27 non-null     object \n",
      " 8   WhiteElo             27 non-null     int64  \n",
      " 9   BlackElo             27 non-null     int64  \n",
      " 10  ECO                  27 non-null     object \n",
      " 11  ECO_Family           27 non-null     object \n",
      " 12  TimeControl          27 non-null     object \n",
      " 13  Termination          27 non-null     object \n",
      " 14  calidad_jugada       27 non-null     object \n",
      " 15  material_blancas     27 non-null     int64  \n",
      " 16  material_negras      27 non-null     int64  \n",
      " 17  diferencia_material  27 non-null     int64  \n",
      " 18  turno.1              27 non-null     int64  \n",
      " 19  enroque_blancas      27 non-null     int64  \n",
      " 20  enroque_negras       27 non-null     int64  \n",
      " 21  jaque                27 non-null     int64  \n",
      " 22  mate                 27 non-null     int64  \n",
      " 23  FEN_0                27 non-null     int64  \n",
      " 24  FEN_1                27 non-null     int64  \n",
      " 25  FEN_2                27 non-null     int64  \n",
      " 26  FEN_3                27 non-null     int64  \n",
      " 27  FEN_4                27 non-null     int64  \n",
      " 28  FEN_5                27 non-null     int64  \n",
      " 29  FEN_6                27 non-null     int64  \n",
      " 30  FEN_7                27 non-null     int64  \n",
      " 31  FEN_8                27 non-null     int64  \n",
      " 32  FEN_9                27 non-null     int64  \n",
      " 33  FEN_10               27 non-null     int64  \n",
      " 34  FEN_11               27 non-null     int64  \n",
      " 35  FEN_12               27 non-null     int64  \n",
      " 36  FEN_13               27 non-null     int64  \n",
      " 37  FEN_14               27 non-null     int64  \n",
      " 38  FEN_15               27 non-null     int64  \n",
      " 39  FEN_16               27 non-null     int64  \n",
      " 40  FEN_17               27 non-null     int64  \n",
      " 41  FEN_18               27 non-null     int64  \n",
      " 42  FEN_19               27 non-null     int64  \n",
      " 43  FEN_20               27 non-null     int64  \n",
      " 44  FEN_21               27 non-null     int64  \n",
      " 45  FEN_22               27 non-null     int64  \n",
      " 46  FEN_23               27 non-null     int64  \n",
      " 47  FEN_24               27 non-null     int64  \n",
      " 48  FEN_25               27 non-null     int64  \n",
      " 49  FEN_26               27 non-null     int64  \n",
      " 50  FEN_27               27 non-null     int64  \n",
      " 51  FEN_28               27 non-null     int64  \n",
      " 52  FEN_29               27 non-null     int64  \n",
      " 53  FEN_30               27 non-null     int64  \n",
      " 54  FEN_31               27 non-null     int64  \n",
      " 55  FEN_32               27 non-null     int64  \n",
      " 56  FEN_33               27 non-null     int64  \n",
      " 57  FEN_34               27 non-null     int64  \n",
      " 58  FEN_35               27 non-null     int64  \n",
      " 59  FEN_36               27 non-null     int64  \n",
      " 60  FEN_37               27 non-null     int64  \n",
      " 61  FEN_38               27 non-null     int64  \n",
      " 62  FEN_39               27 non-null     int64  \n",
      " 63  FEN_40               27 non-null     int64  \n",
      " 64  FEN_41               27 non-null     int64  \n",
      " 65  FEN_42               27 non-null     int64  \n",
      " 66  FEN_43               27 non-null     int64  \n",
      " 67  FEN_44               27 non-null     int64  \n",
      " 68  FEN_45               27 non-null     int64  \n",
      " 69  FEN_46               27 non-null     int64  \n",
      " 70  FEN_47               27 non-null     int64  \n",
      " 71  FEN_48               27 non-null     int64  \n",
      " 72  FEN_49               27 non-null     int64  \n",
      " 73  FEN_50               27 non-null     int64  \n",
      " 74  FEN_51               27 non-null     int64  \n",
      " 75  FEN_52               27 non-null     int64  \n",
      " 76  FEN_53               27 non-null     int64  \n",
      " 77  FEN_54               27 non-null     int64  \n",
      " 78  FEN_55               27 non-null     int64  \n",
      " 79  FEN_56               27 non-null     int64  \n",
      " 80  FEN_57               27 non-null     int64  \n",
      " 81  FEN_58               27 non-null     int64  \n",
      " 82  FEN_59               27 non-null     int64  \n",
      " 83  FEN_60               27 non-null     int64  \n",
      " 84  FEN_61               27 non-null     int64  \n",
      " 85  FEN_62               27 non-null     int64  \n",
      " 86  FEN_63               27 non-null     int64  \n",
      " 87  eval_anterior        26 non-null     float64\n",
      " 88  pct_buenas           27 non-null     float64\n",
      " 89  desconocida          27 non-null     float64\n",
      " 90  mala                 27 non-null     float64\n",
      " 91  pct_dudosas          27 non-null     float64\n",
      " 92  pct_errores          27 non-null     float64\n",
      "dtypes: float64(7), int64(77), object(9)\n",
      "memory usage: 19.7+ KB\n"
     ]
    }
   ],
   "source": [
    "df_ml.info()"
   ]
  },
  {
   "cell_type": "code",
   "execution_count": 5,
   "id": "a190dff7",
   "metadata": {},
   "outputs": [
    {
     "name": "stdout",
     "output_type": "stream",
     "text": [
      "El ELO del jugador negro es: 1610\n"
     ]
    }
   ],
   "source": [
    "import pandas as pd\n",
    "import joblib\n",
    "\n",
    "df_ml = pd.read_csv('../data/raw/df_ml_input.csv')\n",
    "\n",
    "df_ml['eval_anterior'] = df_ml['eval_anterior'].fillna(0)\n",
    "df_ml['eval'] = df_ml['eval'].fillna(0)\n",
    "\n",
    "exclude_cols = [col for col in df_ml.columns if col.startswith('FEN_')]\n",
    "exclude_cols += ['BlackElo', 'ID_partida', 'jugada_num', 'SAN', 'turno', 'White', 'Black', 'ECO', 'TimeControl', 'Termination',\n",
    "                 'material_blancas', 'material_negras', 'turno.1', 'enroque_blancas', 'enroque_negras', 'jaque', 'mate', 'desconocida']\n",
    "df_ml = df_ml.drop(exclude_cols, axis=1)\n",
    "\n",
    "categorical_cols = ['ECO_Family', 'calidad_jugada']\n",
    "\n",
    "df_ml = pd.get_dummies(df_ml, columns=categorical_cols, drop_first=True)\n",
    "\n",
    "modelo_rf = joblib.load('modelo_rf_93.joblib')\n",
    "\n",
    "columnas_esperadas = modelo_rf.feature_names_in_\n",
    "\n",
    "for col in columnas_esperadas:\n",
    "    if col not in df_ml.columns:\n",
    "        df_ml[col] = 0  # Asignamos 0 o NaN dependiendo del contexto\n",
    "\n",
    "df_ml = df_ml[columnas_esperadas]\n",
    "\n",
    "predicciones_elo = modelo_rf.predict(df_ml)\n",
    "\n",
    "df_ml['prediccion_elo_negro'] = predicciones_elo\n",
    "\n",
    "\n",
    "media_elo_negro = round(df_ml['prediccion_elo_negro'].mean())\n",
    "\n",
    "print(f\"El ELO del jugador negro es: {media_elo_negro}\")\n"
   ]
  }
 ],
 "metadata": {
  "kernelspec": {
   "display_name": "Python 3",
   "language": "python",
   "name": "python3"
  },
  "language_info": {
   "codemirror_mode": {
    "name": "ipython",
    "version": 3
   },
   "file_extension": ".py",
   "mimetype": "text/x-python",
   "name": "python",
   "nbconvert_exporter": "python",
   "pygments_lexer": "ipython3",
   "version": "3.11.9"
  }
 },
 "nbformat": 4,
 "nbformat_minor": 5
}
