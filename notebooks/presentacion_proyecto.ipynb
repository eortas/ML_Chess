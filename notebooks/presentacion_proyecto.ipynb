{
 "cells": [
  {
   "cell_type": "markdown",
   "id": "c772e770",
   "metadata": {},
   "source": [
    "![Modelo](../data/img/the-queens-gambit-netflix%20copia.jpg)\n",
    "\n",
    "### 1 Proyecto : Análisis estadístico de partidas para cálculo rendimiento de jugadores\n",
    "Objetivo:\n",
    "Crea un modelo que, dado:\n",
    "\n",
    "Duración de partida (número de movimientos o tiempo),\n",
    "\n",
    "ELO de ambos jugadores,\n",
    "\n",
    "Apertura usada,\n",
    "\n",
    "Cantidad de errores graves (blunders), jugadas buenas para evaluar tanto la partida (caótica, normal, genial) como el nivel de los jugadores, si han rendido en función a su rendimiento máximo.\n",
    "\n",
    "Situación actual (ganando/perdiendo),\n",
    "\n",
    "El resultado, obvio\n",
    "\n",
    "\n",
    "prediga el ELO del jugador\n",
    "\n",
    "### 2 Proyecto : Propuesta \n",
    "Objetivo:\n",
    "Crear un modelo que desde una posición calcule con ML el número de jugadas que llevan jugadas.\n",
    "En caso de no introducir una posición inicial el tablero se inicia desde la posición inicial.\n",
    "\n",
    "La app muestra el tablero en un gráfico.\n",
    "\n",
    "El modelo acepta jugadas del jugador humano y un motor de ajedrez juega por el otro bando.\n",
    "\n",
    "Al terminar la partida se puede aplicar el modelo 1 para calcular el ELO del jugador humano.\n",
    "\n",
    "\n",
    "\n"
   ]
  }
 ],
 "metadata": {
  "language_info": {
   "name": "python"
  }
 },
 "nbformat": 4,
 "nbformat_minor": 5
}
